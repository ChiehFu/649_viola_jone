{
 "cells": [
  {
   "cell_type": "code",
   "execution_count": 1,
   "metadata": {},
   "outputs": [],
   "source": [
    "\n",
    "class RectangleRegion:\n",
    "    def __init__(self, x, y, width, height):\n",
    "        self.x = x\n",
    "        self.y = y\n",
    "        self.width = width\n",
    "        self.height = height\n",
    "    def compute_feature(self, ii):\n",
    "        return ii[self.y+self.height - 1][self.x+self.width - 1] + ii[self.y - 1][self.x - 1] - (ii[self.y+self.height - 1][self.x - 1] + ii[self.y - 1][self.x+self.width - 1])\n",
    "    "
   ]
  },
  {
   "cell_type": "code",
   "execution_count": 2,
   "metadata": {},
   "outputs": [],
   "source": [
    "def integral_image(image):\n",
    "    ii = np.zeros(image.shape)\n",
    "    s = np.zeros(image.shape)\n",
    "    for y in range(len(image)):\n",
    "        for x in range(len(image[y])):\n",
    "            s[y][x] = s[y-1][x] + image[y][x] if y-1 >= 0 else image[y][x]\n",
    "            ii[y][x] = ii[y][x-1]+s[y][x] if x-1 >= 0 else s[y][x]\n",
    "    return ii"
   ]
  },
  {
   "cell_type": "code",
   "execution_count": 105,
   "metadata": {},
   "outputs": [],
   "source": [
    "import math\n",
    "from tqdm import tqdm_notebook as tqdm\n",
    "\n",
    "class ViolaJones:\n",
    "    \n",
    "    class WeakClassifier:\n",
    "        def __init__(self, positive_regions, negative_regions, threshold, polarity):\n",
    "            self.positive_regions = positive_regions\n",
    "            self.negative_regions = negative_regions\n",
    "            self.threshold = threshold\n",
    "            self.polarity = polarity\n",
    "        def classify(self, x):\n",
    "            feature = lambda ii: sum([pos.compute_feature(ii) for pos in self.positive_regions]) - sum([neg.compute_feature(ii) for neg in self.negative_regions])\n",
    "            return 1 if self.polarity * feature(x) < self.polarity * self.threshold else 0\n",
    "            \n",
    "    def __init__(self, T = 10):\n",
    "        self.T = T\n",
    "        self.alphas = []\n",
    "        self.clfs = []\n",
    "        \n",
    "    def build_features(self, image_shape, max_height, max_width, verbose=False):\n",
    "        \n",
    "        height, width = image_shape\n",
    "        \n",
    "        features = []\n",
    "        type_count = [0] * 5\n",
    "        \n",
    "        if max_height == None:\n",
    "            max_height = height\n",
    "        else:\n",
    "            max_height = min(max_height, height)\n",
    "            \n",
    "        if max_width == None:\n",
    "            max_width = width\n",
    "        else:\n",
    "            max_width = min(max_width, width)\n",
    "            \n",
    "        for w in range(1, max_width + 1):\n",
    "            for h in range(1, max_height + 1):\n",
    "                cur_x = 0\n",
    "                while cur_x + w <= width:\n",
    "                    cur_y = 0\n",
    "                    \n",
    "                    while cur_y + h <= height:\n",
    "                        \n",
    "                        rec = RectangleRegion(cur_x, cur_y, w, h)\n",
    "                        \n",
    "                        # type 1 (two vertical) features.\n",
    "                        if cur_x + 2 * w <=  width:\n",
    "                            rec_right = RectangleRegion(cur_x + w, cur_y, w, h)\n",
    "                            features.append(([rec], [rec_right]))\n",
    "                            type_count[0] += 1\n",
    "                            \n",
    "                            # type 4 (three vertical) features.\n",
    "                            if cur_x + 3 * w <= width:\n",
    "                                rec_right_right = RectangleRegion(cur_x + 2 * w, cur_y, w, h)\n",
    "                                features.append(([rec, rec_right_right], [rec_right]))\n",
    "                                type_count[3] += 1\n",
    "                                \n",
    "                        # type 2 (two horizontal) features.\n",
    "                        if cur_y + 2 * h <= height:\n",
    "                            rec_bot = RectangleRegion(cur_x, cur_y + h, w, h)\n",
    "                            features.append(([rec], [rec_bot]))\n",
    "                            type_count[1] += 1\n",
    "                            \n",
    "                            # type 3 (three horizontal) features.\n",
    "                            if cur_y + 3 * h <= height:\n",
    "                                rec_bot_bot = RectangleRegion(cur_x, cur_y + 2 * h, w, h)\n",
    "                                features.append(([rec, rec_bot_bot], [rec_bot]))\n",
    "                                type_count[2] += 1\n",
    "                                \n",
    "                        # type 5 (four) features.\n",
    "                        if (cur_x + 2 * w <=  width) and (cur_y + 2 * h <= height):\n",
    "                            rec_bot_right = RectangleRegion(cur_x + w, cur_y + h, w, h)\n",
    "                            features.append(([rec, rec_bot_right], [rec_right, rec_bot]))\n",
    "                            type_count[4] += 1\n",
    "                            \n",
    "                        cur_y += 1\n",
    "                    cur_x += 1\n",
    "                    \n",
    "        if verbose:\n",
    "            # Print the feature summary \n",
    "            print('\\t The total number of Haar Features is : ', len(features))\n",
    "            print('\\t There are ', type_count[0] ,' type 1 (two vertical) features.')\n",
    "            print('\\t There are ', type_count[1],' type 2 (two horizontal) features.')\n",
    "            print('\\t There are ', type_count[2],' type 3 (three horizontal) features.')\n",
    "            print('\\t There are ', type_count[3],' type 4 (three vertical) features.')\n",
    "            print('\\t There are ', type_count[4],' type 5 (four) features.')\n",
    "        \n",
    "        return features\n",
    "\n",
    "\n",
    "    def apply_features(self, features, training_data):\n",
    "        X = np.zeros((len(features), len(training_data)))\n",
    "        y = np.array(list(map(lambda data: data[1], training_data)))\n",
    "        i = 0\n",
    "        for positive_regions, negative_regions in tqdm(features):\n",
    "            feature = lambda ii: sum([pos.compute_feature(ii) for pos in positive_regions]) - sum([neg.compute_feature(ii) for neg in negative_regions])\n",
    "            X[i] = list(map(lambda data: feature(data[0]), training_data))\n",
    "            i += 1\n",
    "        return X, y\n",
    "\n",
    "    def train_weak(self, X, y, features, weights):\n",
    "        total_pos, total_neg = 0, 0\n",
    "\n",
    "        for w, label in zip(weights, y):\n",
    "            if label == 1:\n",
    "                total_pos += w\n",
    "            else:\n",
    "                total_neg += w\n",
    "\n",
    "        classifiers = []\n",
    "        total_features = X.shape[0]\n",
    "        \n",
    "        pbar = tqdm(total=total_features)\n",
    "        \n",
    "        for index, feature in enumerate(X):\n",
    "#             if len(classifiers) % 5000 == 0 and len(classifiers) != 0:\n",
    "#                 print(\"\\t Trained %d classifiers out of %d\" % (len(classifiers), total_features))\n",
    "            applied_feature = sorted(zip(weights, feature, y), key=lambda x: x[1])\n",
    "            pos_seen, neg_seen = 0, 0\n",
    "            pos_weights, neg_weights = 0, 0\n",
    "            min_error, best_feature, best_threshold, best_polarity = float('inf'), None, None, None\n",
    "            for w, f, label in applied_feature:\n",
    "                error = min(neg_weights + total_pos - pos_weights, pos_weights + total_neg - neg_weights)\n",
    "                if error < min_error:\n",
    "                    min_error = error\n",
    "                    best_feature = features[index]\n",
    "                    best_threshold = f\n",
    "                    best_polarity = 1 if pos_seen > neg_seen else -1\n",
    "                if label == 1:\n",
    "                    pos_seen += 1\n",
    "                    pos_weights += w\n",
    "                else:\n",
    "                    neg_seen += 1\n",
    "                    neg_weights += w\n",
    "            clf = self.WeakClassifier(best_feature[0], best_feature[1], best_threshold, best_polarity)\n",
    "            classifiers.append(clf)\n",
    "            \n",
    "            pbar.update(1)\n",
    "        return classifiers\n",
    "        \n",
    "    def select_best(self, classifiers, weights, training_data):\n",
    "        best_clf, best_error, best_accuracy = None, float('inf'), None\n",
    "        for clf in classifiers:\n",
    "            error, accuracy = 0, []\n",
    "            for data, w in zip(training_data, weights):\n",
    "                correctness = abs(clf.classify(data[0]) - data[1])\n",
    "                accuracy.append(correctness)\n",
    "                error += w * correctness\n",
    "            error = error / len(training_data)\n",
    "            if error < best_error:\n",
    "                best_clf, best_error, best_accuracy = clf, error, accuracy\n",
    "        return best_clf, best_error, best_accuracy\n",
    "\n",
    "    def train(self, training, testing, max_height=8, max_width=8, test_round={1, 3, 5, 10}):\n",
    "        \n",
    "        pos_num = sum([tup[1] for tup in training])\n",
    "        neg_num = len(training) - pos_num\n",
    "        print('pos/neg : {}/{}'.format(pos_num, neg_num))\n",
    "        \n",
    "        weights = np.zeros(len(training))\n",
    "        training_data = []\n",
    "        \n",
    "        print('Initialize the weights of {} weak classfiers...'.format(self.T))\n",
    "        for x in range(len(training)):\n",
    "            training_data.append((integral_image(training[x][0]), training[x][1]))\n",
    "            if training[x][1] == 1:\n",
    "                weights[x] = 1.0 / (2 * pos_num)\n",
    "            else:\n",
    "                weights[x] = 1.0 / (2 * neg_num)\n",
    "                \n",
    "        print('Build up Haar features filter...')\n",
    "        features = self.build_features(training_data[0][0].shape, max_height, max_width)\n",
    "        \n",
    "        print('Precompute the Harr features of the training set...')\n",
    "        X, y = self.apply_features(features, training_data)\n",
    "#         print(X.shape)\n",
    "#         print(y.shape)\n",
    "        print('Start Adaboost...')\n",
    "    \n",
    "        for t in range(self.T):\n",
    "            print('Round {}/{}:'.format(t + 1, self.T))\n",
    "            weights = weights / np.linalg.norm(weights)\n",
    "            weak_classifiers = self.train_weak(X, y, features, weights)\n",
    "            clf, error, accuracy = self.select_best(weak_classifiers, weights, training_data)\n",
    "            beta = error / (1.0 - error)\n",
    "            for i in range(len(accuracy)):\n",
    "                weights[i] = weights[i] * (beta ** (1 - accuracy[i]))\n",
    "            alpha = math.log(1.0/beta)\n",
    "            self.alphas.append(alpha)\n",
    "            self.clfs.append(clf)\n",
    "            \n",
    "            if (t + 1) in test_round:\n",
    "                self.test(testing, t + 1)\n",
    "            \n",
    "    def classify(self, image):\n",
    "        total = 0\n",
    "        ii = integral_image(image)\n",
    "        for alpha, clf in zip(self.alphas, self.clfs):\n",
    "            total += alpha * clf.classify(ii)\n",
    "        return 1 if total >= 0.5 * sum(self.alphas) else 0\n",
    "    \n",
    "    def test(self, testing, t):\n",
    "        total = len(testing)\n",
    "        TP = 0\n",
    "        TN = 0\n",
    "        FP = 0\n",
    "        FN = 0\n",
    "        \n",
    "        for image, yVal in testing:\n",
    "            if self.classify(image) == yVal:\n",
    "                if yVal == 1:\n",
    "                    TP += 1\n",
    "                else:\n",
    "                    TN += 1\n",
    "            else:\n",
    "                if yVal == 1:\n",
    "                    FN += 1\n",
    "                else:\n",
    "                    FP += 1\n",
    "                    \n",
    "        print('Testing at Round {} :'.format(t))\n",
    "        print('Total accuracy Rate: {} ({}/{})'.format((TP + TN) / total, TP + TN, total))\n",
    "        print('False Positive Rate: {} ({}/{})'.format(FP / (FP + TN), FP, FP + TN))\n",
    "        print('False Negative Rate: {} ({}/{}) \\n'.format(FN / (FN + TP), FN, FN + TP))\n",
    "        "
   ]
  },
  {
   "cell_type": "code",
   "execution_count": 106,
   "metadata": {},
   "outputs": [],
   "source": [
    "from PIL import Image\n",
    "import numpy as np\n",
    "import glob\n",
    "\n",
    "folders = {'non-faces' : 0, 'faces' : 1}\n",
    "\n",
    "trainData = []\n",
    "\n",
    "for folder, yVal in folders.items():\n",
    "    for filename in glob.glob('./dataset/trainset/' + folder + '/*.png'):\n",
    "        im = Image.open(filename)\n",
    "        trainData.append((np.asarray(im, dtype=\"int32\"), yVal))\n",
    "        \n",
    "testData = []\n",
    "for folder, yVal in folders.items():\n",
    "    for filename in glob.glob('./dataset/testset/' + folder + '/*.png'):\n",
    "        im = Image.open(filename)\n",
    "        testData.append([np.asarray(im, dtype=\"int32\"), yVal])\n"
   ]
  },
  {
   "cell_type": "code",
   "execution_count": 107,
   "metadata": {},
   "outputs": [
    {
     "name": "stdout",
     "output_type": "stream",
     "text": [
      "# of training images :  2499\n",
      "# of testing images :  2267\n"
     ]
    }
   ],
   "source": [
    "# print([n[1] for n in trainData])\n",
    "print('# of training images : ', len(trainData))\n",
    "print('# of testing images : ', len(testData))"
   ]
  },
  {
   "cell_type": "code",
   "execution_count": 108,
   "metadata": {},
   "outputs": [],
   "source": [
    "import pickle\n",
    "import os \n",
    "dir_path = os.path.abspath('')\n",
    "\n",
    "def save_model(model, file_name):\n",
    "    with open(os.path.join(dir_path, file_name), 'wb') as output:\n",
    "        pickle.dump(model, output, pickle.HIGHEST_PROTOCOL)\n",
    "\n",
    "def read_mode(file_name):\n",
    "    with open(os.path.join(dir_path, file_name), 'rb') as input:\n",
    "        model = pickle.load(input)\n",
    "        return model"
   ]
  },
  {
   "cell_type": "code",
   "execution_count": 110,
   "metadata": {
    "scrolled": false
   },
   "outputs": [
    {
     "name": "stdout",
     "output_type": "stream",
     "text": [
      "pos/neg : 199/100\n",
      "Initialize the weights of 10 weak classfiers...\n",
      "Build up Haar features filter...\n",
      "Precompute the Harr features of the training set...\n"
     ]
    },
    {
     "data": {
      "application/vnd.jupyter.widget-view+json": {
       "model_id": "f8db51158bf142089faac2af8c1f59a9",
       "version_major": 2,
       "version_minor": 0
      },
      "text/plain": [
       "HBox(children=(IntProgress(value=0, max=1654), HTML(value='')))"
      ]
     },
     "metadata": {},
     "output_type": "display_data"
    },
    {
     "name": "stdout",
     "output_type": "stream",
     "text": [
      "\n",
      "Start Adaboost...\n",
      "Round 1/10:\n"
     ]
    },
    {
     "data": {
      "application/vnd.jupyter.widget-view+json": {
       "model_id": "ce780cde2e6b4f08805f76c35f6d6d57",
       "version_major": 2,
       "version_minor": 0
      },
      "text/plain": [
       "HBox(children=(IntProgress(value=0, max=1654), HTML(value='')))"
      ]
     },
     "metadata": {},
     "output_type": "display_data"
    },
    {
     "name": "stdout",
     "output_type": "stream",
     "text": [
      "Testing at Round 1 :\n",
      "Total accuracy Rate: 0.5580524344569289 (149/267)\n",
      "False Positive Rate: 0.15 (15/100)\n",
      "False Negative Rate: 0.6167664670658682 (103/167) \n",
      "\n",
      "Round 2/10:\n"
     ]
    },
    {
     "data": {
      "application/vnd.jupyter.widget-view+json": {
       "model_id": "98e26f02b6574da48705953c81f8829c",
       "version_major": 2,
       "version_minor": 0
      },
      "text/plain": [
       "HBox(children=(IntProgress(value=0, max=1654), HTML(value='')))"
      ]
     },
     "metadata": {},
     "output_type": "display_data"
    },
    {
     "name": "stdout",
     "output_type": "stream",
     "text": [
      "\n",
      "Round 3/10:\n"
     ]
    },
    {
     "data": {
      "application/vnd.jupyter.widget-view+json": {
       "model_id": "fa985beb78384aa9b363fafdf283612a",
       "version_major": 2,
       "version_minor": 0
      },
      "text/plain": [
       "HBox(children=(IntProgress(value=0, max=1654), HTML(value='')))"
      ]
     },
     "metadata": {},
     "output_type": "display_data"
    },
    {
     "name": "stdout",
     "output_type": "stream",
     "text": [
      "Testing at Round 3 :\n",
      "Total accuracy Rate: 0.5692883895131086 (152/267)\n",
      "False Positive Rate: 0.13 (13/100)\n",
      "False Negative Rate: 0.6107784431137725 (102/167) \n",
      "\n",
      "Round 4/10:\n"
     ]
    },
    {
     "data": {
      "application/vnd.jupyter.widget-view+json": {
       "model_id": "ea9bdd2c2eb743139bdd282ddf65e8d7",
       "version_major": 2,
       "version_minor": 0
      },
      "text/plain": [
       "HBox(children=(IntProgress(value=0, max=1654), HTML(value='')))"
      ]
     },
     "metadata": {},
     "output_type": "display_data"
    },
    {
     "name": "stdout",
     "output_type": "stream",
     "text": [
      "Round 5/10:\n"
     ]
    },
    {
     "data": {
      "application/vnd.jupyter.widget-view+json": {
       "model_id": "0dac37d5dcbd4786be0bcf1a6785a8a2",
       "version_major": 2,
       "version_minor": 0
      },
      "text/plain": [
       "HBox(children=(IntProgress(value=0, max=1654), HTML(value='')))"
      ]
     },
     "metadata": {},
     "output_type": "display_data"
    },
    {
     "name": "stdout",
     "output_type": "stream",
     "text": [
      "Testing at Round 5 :\n",
      "Total accuracy Rate: 0.5131086142322098 (137/267)\n",
      "False Positive Rate: 0.11 (11/100)\n",
      "False Negative Rate: 0.7125748502994012 (119/167) \n",
      "\n",
      "Round 6/10:\n"
     ]
    },
    {
     "data": {
      "application/vnd.jupyter.widget-view+json": {
       "model_id": "d0ebaffd26ea4c3bb1562f9374d3f161",
       "version_major": 2,
       "version_minor": 0
      },
      "text/plain": [
       "HBox(children=(IntProgress(value=0, max=1654), HTML(value='')))"
      ]
     },
     "metadata": {},
     "output_type": "display_data"
    },
    {
     "name": "stdout",
     "output_type": "stream",
     "text": [
      "Round 7/10:\n"
     ]
    },
    {
     "data": {
      "application/vnd.jupyter.widget-view+json": {
       "model_id": "5a9b27d8ba4e41368c6979860aef4e67",
       "version_major": 2,
       "version_minor": 0
      },
      "text/plain": [
       "HBox(children=(IntProgress(value=0, max=1654), HTML(value='')))"
      ]
     },
     "metadata": {},
     "output_type": "display_data"
    },
    {
     "name": "stdout",
     "output_type": "stream",
     "text": [
      "Round 8/10:\n"
     ]
    },
    {
     "data": {
      "application/vnd.jupyter.widget-view+json": {
       "model_id": "29e6df943c8048f8ac246b4c4fb34e4e",
       "version_major": 2,
       "version_minor": 0
      },
      "text/plain": [
       "HBox(children=(IntProgress(value=0, max=1654), HTML(value='')))"
      ]
     },
     "metadata": {},
     "output_type": "display_data"
    },
    {
     "name": "stdout",
     "output_type": "stream",
     "text": [
      "\n",
      "Round 9/10:\n"
     ]
    },
    {
     "data": {
      "application/vnd.jupyter.widget-view+json": {
       "model_id": "218becc65544412491518720995fe309",
       "version_major": 2,
       "version_minor": 0
      },
      "text/plain": [
       "HBox(children=(IntProgress(value=0, max=1654), HTML(value='')))"
      ]
     },
     "metadata": {},
     "output_type": "display_data"
    },
    {
     "name": "stdout",
     "output_type": "stream",
     "text": [
      "Round 10/10:\n"
     ]
    },
    {
     "data": {
      "application/vnd.jupyter.widget-view+json": {
       "model_id": "8924e3f91e8c4290839ce22eae861916",
       "version_major": 2,
       "version_minor": 0
      },
      "text/plain": [
       "HBox(children=(IntProgress(value=0, max=1654), HTML(value='')))"
      ]
     },
     "metadata": {},
     "output_type": "display_data"
    },
    {
     "name": "stdout",
     "output_type": "stream",
     "text": [
      "Testing at Round 10 :\n",
      "Total accuracy Rate: 0.49812734082397003 (133/267)\n",
      "False Positive Rate: 0.04 (4/100)\n",
      "False Negative Rate: 0.7784431137724551 (130/167) \n",
      "\n"
     ]
    }
   ],
   "source": [
    "model = ViolaJones()\n",
    "test_trainData = trainData[0:100] + trainData[2300:]\n",
    "test_testData = testData[0:100] + testData[2100:]\n",
    "model.train(test_trainData, test_testData, 1, 1)\n",
    "save_model(model, 'model')"
   ]
  },
  {
   "cell_type": "code",
   "execution_count": null,
   "metadata": {},
   "outputs": [],
   "source": []
  }
 ],
 "metadata": {
  "kernelspec": {
   "display_name": "Python 3",
   "language": "python",
   "name": "python3"
  },
  "language_info": {
   "codemirror_mode": {
    "name": "ipython",
    "version": 3
   },
   "file_extension": ".py",
   "mimetype": "text/x-python",
   "name": "python",
   "nbconvert_exporter": "python",
   "pygments_lexer": "ipython3",
   "version": "3.7.4"
  }
 },
 "nbformat": 4,
 "nbformat_minor": 2
}
